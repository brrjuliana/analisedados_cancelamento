{
 "cells": [
  {
   "cell_type": "code",
   "execution_count": 28,
   "metadata": {},
   "outputs": [],
   "source": [
    "# Passo 1 - Importar a base de dados\n",
    "import pandas as pd\n",
    "\n",
    "tabela = pd.read_csv(\"cancelamentos.csv\")\n"
   ]
  },
  {
   "cell_type": "code",
   "execution_count": 29,
   "metadata": {},
   "outputs": [
    {
     "data": {
      "text/html": [
       "<div>\n",
       "<style scoped>\n",
       "    .dataframe tbody tr th:only-of-type {\n",
       "        vertical-align: middle;\n",
       "    }\n",
       "\n",
       "    .dataframe tbody tr th {\n",
       "        vertical-align: top;\n",
       "    }\n",
       "\n",
       "    .dataframe thead th {\n",
       "        text-align: right;\n",
       "    }\n",
       "</style>\n",
       "<table border=\"1\" class=\"dataframe\">\n",
       "  <thead>\n",
       "    <tr style=\"text-align: right;\">\n",
       "      <th></th>\n",
       "      <th>idade</th>\n",
       "      <th>sexo</th>\n",
       "      <th>tempo_como_cliente</th>\n",
       "      <th>frequencia_uso</th>\n",
       "      <th>ligacoes_callcenter</th>\n",
       "      <th>dias_atraso</th>\n",
       "      <th>assinatura</th>\n",
       "      <th>duracao_contrato</th>\n",
       "      <th>total_gasto</th>\n",
       "      <th>meses_ultima_interacao</th>\n",
       "      <th>cancelou</th>\n",
       "    </tr>\n",
       "  </thead>\n",
       "  <tbody>\n",
       "    <tr>\n",
       "      <th>0</th>\n",
       "      <td>30.0</td>\n",
       "      <td>Female</td>\n",
       "      <td>39.0</td>\n",
       "      <td>14.0</td>\n",
       "      <td>5.0</td>\n",
       "      <td>18.0</td>\n",
       "      <td>Standard</td>\n",
       "      <td>Annual</td>\n",
       "      <td>932.00</td>\n",
       "      <td>17.0</td>\n",
       "      <td>1.0</td>\n",
       "    </tr>\n",
       "    <tr>\n",
       "      <th>1</th>\n",
       "      <td>65.0</td>\n",
       "      <td>Female</td>\n",
       "      <td>49.0</td>\n",
       "      <td>1.0</td>\n",
       "      <td>10.0</td>\n",
       "      <td>8.0</td>\n",
       "      <td>Basic</td>\n",
       "      <td>Monthly</td>\n",
       "      <td>557.00</td>\n",
       "      <td>6.0</td>\n",
       "      <td>1.0</td>\n",
       "    </tr>\n",
       "    <tr>\n",
       "      <th>2</th>\n",
       "      <td>55.0</td>\n",
       "      <td>Female</td>\n",
       "      <td>14.0</td>\n",
       "      <td>4.0</td>\n",
       "      <td>6.0</td>\n",
       "      <td>18.0</td>\n",
       "      <td>Basic</td>\n",
       "      <td>Quarterly</td>\n",
       "      <td>185.00</td>\n",
       "      <td>3.0</td>\n",
       "      <td>1.0</td>\n",
       "    </tr>\n",
       "    <tr>\n",
       "      <th>3</th>\n",
       "      <td>58.0</td>\n",
       "      <td>Male</td>\n",
       "      <td>38.0</td>\n",
       "      <td>21.0</td>\n",
       "      <td>7.0</td>\n",
       "      <td>7.0</td>\n",
       "      <td>Standard</td>\n",
       "      <td>Monthly</td>\n",
       "      <td>396.00</td>\n",
       "      <td>29.0</td>\n",
       "      <td>1.0</td>\n",
       "    </tr>\n",
       "    <tr>\n",
       "      <th>4</th>\n",
       "      <td>23.0</td>\n",
       "      <td>Male</td>\n",
       "      <td>32.0</td>\n",
       "      <td>20.0</td>\n",
       "      <td>5.0</td>\n",
       "      <td>8.0</td>\n",
       "      <td>Basic</td>\n",
       "      <td>Monthly</td>\n",
       "      <td>617.00</td>\n",
       "      <td>20.0</td>\n",
       "      <td>1.0</td>\n",
       "    </tr>\n",
       "    <tr>\n",
       "      <th>...</th>\n",
       "      <td>...</td>\n",
       "      <td>...</td>\n",
       "      <td>...</td>\n",
       "      <td>...</td>\n",
       "      <td>...</td>\n",
       "      <td>...</td>\n",
       "      <td>...</td>\n",
       "      <td>...</td>\n",
       "      <td>...</td>\n",
       "      <td>...</td>\n",
       "      <td>...</td>\n",
       "    </tr>\n",
       "    <tr>\n",
       "      <th>881661</th>\n",
       "      <td>42.0</td>\n",
       "      <td>Male</td>\n",
       "      <td>54.0</td>\n",
       "      <td>15.0</td>\n",
       "      <td>1.0</td>\n",
       "      <td>3.0</td>\n",
       "      <td>Premium</td>\n",
       "      <td>Annual</td>\n",
       "      <td>716.38</td>\n",
       "      <td>8.0</td>\n",
       "      <td>0.0</td>\n",
       "    </tr>\n",
       "    <tr>\n",
       "      <th>881662</th>\n",
       "      <td>25.0</td>\n",
       "      <td>Female</td>\n",
       "      <td>8.0</td>\n",
       "      <td>13.0</td>\n",
       "      <td>1.0</td>\n",
       "      <td>20.0</td>\n",
       "      <td>Premium</td>\n",
       "      <td>Annual</td>\n",
       "      <td>745.38</td>\n",
       "      <td>2.0</td>\n",
       "      <td>0.0</td>\n",
       "    </tr>\n",
       "    <tr>\n",
       "      <th>881663</th>\n",
       "      <td>26.0</td>\n",
       "      <td>Male</td>\n",
       "      <td>35.0</td>\n",
       "      <td>27.0</td>\n",
       "      <td>1.0</td>\n",
       "      <td>5.0</td>\n",
       "      <td>Standard</td>\n",
       "      <td>Quarterly</td>\n",
       "      <td>977.31</td>\n",
       "      <td>9.0</td>\n",
       "      <td>0.0</td>\n",
       "    </tr>\n",
       "    <tr>\n",
       "      <th>881664</th>\n",
       "      <td>28.0</td>\n",
       "      <td>Male</td>\n",
       "      <td>55.0</td>\n",
       "      <td>14.0</td>\n",
       "      <td>2.0</td>\n",
       "      <td>0.0</td>\n",
       "      <td>Standard</td>\n",
       "      <td>Quarterly</td>\n",
       "      <td>602.55</td>\n",
       "      <td>2.0</td>\n",
       "      <td>0.0</td>\n",
       "    </tr>\n",
       "    <tr>\n",
       "      <th>881665</th>\n",
       "      <td>31.0</td>\n",
       "      <td>Male</td>\n",
       "      <td>48.0</td>\n",
       "      <td>20.0</td>\n",
       "      <td>1.0</td>\n",
       "      <td>14.0</td>\n",
       "      <td>Premium</td>\n",
       "      <td>Quarterly</td>\n",
       "      <td>567.77</td>\n",
       "      <td>21.0</td>\n",
       "      <td>0.0</td>\n",
       "    </tr>\n",
       "  </tbody>\n",
       "</table>\n",
       "<p>881666 rows × 11 columns</p>\n",
       "</div>"
      ],
      "text/plain": [
       "        idade    sexo  tempo_como_cliente  frequencia_uso  \\\n",
       "0        30.0  Female                39.0            14.0   \n",
       "1        65.0  Female                49.0             1.0   \n",
       "2        55.0  Female                14.0             4.0   \n",
       "3        58.0    Male                38.0            21.0   \n",
       "4        23.0    Male                32.0            20.0   \n",
       "...       ...     ...                 ...             ...   \n",
       "881661   42.0    Male                54.0            15.0   \n",
       "881662   25.0  Female                 8.0            13.0   \n",
       "881663   26.0    Male                35.0            27.0   \n",
       "881664   28.0    Male                55.0            14.0   \n",
       "881665   31.0    Male                48.0            20.0   \n",
       "\n",
       "        ligacoes_callcenter  dias_atraso assinatura duracao_contrato  \\\n",
       "0                       5.0         18.0   Standard           Annual   \n",
       "1                      10.0          8.0      Basic          Monthly   \n",
       "2                       6.0         18.0      Basic        Quarterly   \n",
       "3                       7.0          7.0   Standard          Monthly   \n",
       "4                       5.0          8.0      Basic          Monthly   \n",
       "...                     ...          ...        ...              ...   \n",
       "881661                  1.0          3.0    Premium           Annual   \n",
       "881662                  1.0         20.0    Premium           Annual   \n",
       "881663                  1.0          5.0   Standard        Quarterly   \n",
       "881664                  2.0          0.0   Standard        Quarterly   \n",
       "881665                  1.0         14.0    Premium        Quarterly   \n",
       "\n",
       "        total_gasto  meses_ultima_interacao  cancelou  \n",
       "0            932.00                    17.0       1.0  \n",
       "1            557.00                     6.0       1.0  \n",
       "2            185.00                     3.0       1.0  \n",
       "3            396.00                    29.0       1.0  \n",
       "4            617.00                    20.0       1.0  \n",
       "...             ...                     ...       ...  \n",
       "881661       716.38                     8.0       0.0  \n",
       "881662       745.38                     2.0       0.0  \n",
       "881663       977.31                     9.0       0.0  \n",
       "881664       602.55                     2.0       0.0  \n",
       "881665       567.77                    21.0       0.0  \n",
       "\n",
       "[881666 rows x 11 columns]"
      ]
     },
     "metadata": {},
     "output_type": "display_data"
    }
   ],
   "source": [
    "\n",
    "# Passo 2 Verificamos as colunas inuteis para excluir. Informação que não te ajuda, te atrapalha\n",
    "\n",
    "tabela = tabela.drop(columns=\"CustomerID\")\n",
    "display(tabela)"
   ]
  },
  {
   "cell_type": "code",
   "execution_count": 30,
   "metadata": {},
   "outputs": [
    {
     "name": "stdout",
     "output_type": "stream",
     "text": [
      "<class 'pandas.core.frame.DataFrame'>\n",
      "Index: 881659 entries, 0 to 881665\n",
      "Data columns (total 11 columns):\n",
      " #   Column                  Non-Null Count   Dtype  \n",
      "---  ------                  --------------   -----  \n",
      " 0   idade                   881659 non-null  float64\n",
      " 1   sexo                    881659 non-null  object \n",
      " 2   tempo_como_cliente      881659 non-null  float64\n",
      " 3   frequencia_uso          881659 non-null  float64\n",
      " 4   ligacoes_callcenter     881659 non-null  float64\n",
      " 5   dias_atraso             881659 non-null  float64\n",
      " 6   assinatura              881659 non-null  object \n",
      " 7   duracao_contrato        881659 non-null  object \n",
      " 8   total_gasto             881659 non-null  float64\n",
      " 9   meses_ultima_interacao  881659 non-null  float64\n",
      " 10  cancelou                881659 non-null  float64\n",
      "dtypes: float64(8), object(3)\n",
      "memory usage: 80.7+ MB\n",
      "None\n"
     ]
    }
   ],
   "source": [
    "# Passo 3 Informações vazias ou no formato errado\n",
    "tabela = tabela.dropna()\n",
    "print(tabela.info())"
   ]
  },
  {
   "cell_type": "code",
   "execution_count": 31,
   "metadata": {},
   "outputs": [
    {
     "data": {
      "text/plain": [
       "cancelou\n",
       "1.0    499993\n",
       "0.0    381666\n",
       "Name: count, dtype: int64"
      ]
     },
     "metadata": {},
     "output_type": "display_data"
    },
    {
     "data": {
      "text/plain": [
       "cancelou\n",
       "1.0    0.567105\n",
       "0.0    0.432895\n",
       "Name: proportion, dtype: float64"
      ]
     },
     "metadata": {},
     "output_type": "display_data"
    }
   ],
   "source": [
    "# Passo 4 Análise do cancelamento - quantos cancelaram e quantos não cancelaram\n",
    "display(tabela[\"cancelou\"].value_counts())\n",
    "\n",
    "# em percentual\n",
    "display(tabela[\"cancelou\"].value_counts(normalize=True))"
   ]
  },
  {
   "cell_type": "code",
   "execution_count": null,
   "metadata": {},
   "outputs": [],
   "source": [
    "# Passo 5 Analise das causas do cancelamento\n",
    "import plotly.express as px\n",
    "\n",
    "for coluna in tabela.columns:\n",
    "    # cria o grafico\n",
    "    grafico = px.histogram(tabela, x = coluna, color = \"cancelou\", text_auto=True)\n",
    "\n",
    "    # exibe o grafico\n",
    "    grafico.show()"
   ]
  },
  {
   "cell_type": "markdown",
   "metadata": {},
   "source": [
    "Analises feitas através dos gráficos:\n",
    "1. Todos os clientes do contrato mensal cancelaram.\n",
    "    Solução: Dar desconto nos contratos anuais e trimestrais\n",
    "2. Todos os clientes com mais de 20 dias de contrato cancelaram\n",
    "    Solução: Criar um sistema de controle de cobrança que com 10 dias de atraso a empresa entre em contato.\n",
    "3. Todos os clientes que ligaram mais de 4x pro call center, cancelaram\n",
    "    Soluçao: Fazer um trabalho diferenciado no call center, procurando deixar o cliente mais satisfeito. Entrar em contato com o cliente após o mesmo entrar 2x no call center, para entender sua insatisfação e resolver seu problema."
   ]
  },
  {
   "cell_type": "code",
   "execution_count": 37,
   "metadata": {},
   "outputs": [
    {
     "data": {
      "text/plain": [
       "cancelou\n",
       "0.0    0.641018\n",
       "1.0    0.358982\n",
       "Name: proportion, dtype: float64"
      ]
     },
     "metadata": {},
     "output_type": "display_data"
    },
    {
     "data": {
      "text/plain": [
       "cancelou\n",
       "0.0    0.641018\n",
       "1.0    0.358982\n",
       "Name: proportion, dtype: float64"
      ]
     },
     "metadata": {},
     "output_type": "display_data"
    },
    {
     "data": {
      "text/plain": [
       "cancelou\n",
       "0.0    0.816024\n",
       "1.0    0.183976\n",
       "Name: proportion, dtype: float64"
      ]
     },
     "metadata": {},
     "output_type": "display_data"
    }
   ],
   "source": [
    "# Passo 6 Se eu resolver os 3 problemas a cima, quanto cai o cancelamento \n",
    "\n",
    "# Contrato mensal\n",
    "tabela = tabela[tabela[\"duracao_contrato\"]!=\"Monthly\"]\n",
    "display(tabela[\"cancelou\"].value_counts(normalize=True))\n",
    "\n",
    "# atrasos so podem ser até 20 dias\n",
    "tabela = tabela[tabela[\"dias_atraso\"]<= 20]\n",
    "display(tabela[\"cancelou\"].value_counts(normalize=True))\n",
    "\n",
    "# Clientes só podem ligar até 4x no call center\n",
    "tabela = tabela[tabela[\"ligacoes_callcenter\"]<= 4]\n",
    "display(tabela[\"cancelou\"].value_counts(normalize=True))"
   ]
  },
  {
   "cell_type": "markdown",
   "metadata": {},
   "source": []
  }
 ],
 "metadata": {
  "kernelspec": {
   "display_name": "Python 3",
   "language": "python",
   "name": "python3"
  },
  "language_info": {
   "codemirror_mode": {
    "name": "ipython",
    "version": 3
   },
   "file_extension": ".py",
   "mimetype": "text/x-python",
   "name": "python",
   "nbconvert_exporter": "python",
   "pygments_lexer": "ipython3",
   "version": "3.12.7"
  }
 },
 "nbformat": 4,
 "nbformat_minor": 2
}
